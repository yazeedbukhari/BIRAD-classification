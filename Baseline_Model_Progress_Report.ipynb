{
  "nbformat": 4,
  "nbformat_minor": 0,
  "metadata": {
    "colab": {
      "provenance": [],
      "gpuType": "T4"
    },
    "kernelspec": {
      "name": "python3",
      "display_name": "Python 3"
    },
    "language_info": {
      "name": "python"
    }
  },
  "cells": [
    {
      "cell_type": "code",
      "execution_count": null,
      "metadata": {
        "id": "r6IjVBihFPJz"
      },
      "outputs": [],
      "source": [
        "#Importing\n",
        "\n",
        "import torch\n",
        "import numpy as np\n",
        "\n",
        "import torch.nn as nn\n",
        "import torch.nn.functional as F\n",
        "import matplotlib.pyplot as plt\n",
        "import torch.optim as optim\n",
        "import torchvision\n",
        "import torchvision.transforms as transforms\n",
        "from torch.utils.data.sampler import SubsetRandomSampler\n",
        "from torchvision.datasets import ImageFolder\n",
        "\n",
        "import os\n",
        "import shutil\n",
        "import random"
      ]
    },
    {
      "cell_type": "code",
      "source": [
        "# Mounting Google Drive\n",
        "\n",
        "from google.colab import drive\n",
        "drive.mount('/content/drive', force_remount=True)"
      ],
      "metadata": {
        "colab": {
          "base_uri": "https://localhost:8080/",
          "height": 356
        },
        "id": "gmlZcaMHmswi",
        "outputId": "7d6297a4-d47c-43be-d8e8-76122c4e76be"
      },
      "execution_count": null,
      "outputs": [
        {
          "output_type": "error",
          "ename": "MessageError",
          "evalue": "ignored",
          "traceback": [
            "\u001b[0;31m---------------------------------------------------------------------------\u001b[0m",
            "\u001b[0;31mMessageError\u001b[0m                              Traceback (most recent call last)",
            "\u001b[0;32m<ipython-input-2-947d0d213168>\u001b[0m in \u001b[0;36m<cell line: 4>\u001b[0;34m()\u001b[0m\n\u001b[1;32m      2\u001b[0m \u001b[0;34m\u001b[0m\u001b[0m\n\u001b[1;32m      3\u001b[0m \u001b[0;32mfrom\u001b[0m \u001b[0mgoogle\u001b[0m\u001b[0;34m.\u001b[0m\u001b[0mcolab\u001b[0m \u001b[0;32mimport\u001b[0m \u001b[0mdrive\u001b[0m\u001b[0;34m\u001b[0m\u001b[0;34m\u001b[0m\u001b[0m\n\u001b[0;32m----> 4\u001b[0;31m \u001b[0mdrive\u001b[0m\u001b[0;34m.\u001b[0m\u001b[0mmount\u001b[0m\u001b[0;34m(\u001b[0m\u001b[0;34m'/content/drive'\u001b[0m\u001b[0;34m,\u001b[0m \u001b[0mforce_remount\u001b[0m\u001b[0;34m=\u001b[0m\u001b[0;32mTrue\u001b[0m\u001b[0;34m)\u001b[0m\u001b[0;34m\u001b[0m\u001b[0;34m\u001b[0m\u001b[0m\n\u001b[0m",
            "\u001b[0;32m/usr/local/lib/python3.10/dist-packages/google/colab/drive.py\u001b[0m in \u001b[0;36mmount\u001b[0;34m(mountpoint, force_remount, timeout_ms, readonly)\u001b[0m\n\u001b[1;32m    101\u001b[0m \u001b[0;32mdef\u001b[0m \u001b[0mmount\u001b[0m\u001b[0;34m(\u001b[0m\u001b[0mmountpoint\u001b[0m\u001b[0;34m,\u001b[0m \u001b[0mforce_remount\u001b[0m\u001b[0;34m=\u001b[0m\u001b[0;32mFalse\u001b[0m\u001b[0;34m,\u001b[0m \u001b[0mtimeout_ms\u001b[0m\u001b[0;34m=\u001b[0m\u001b[0;36m120000\u001b[0m\u001b[0;34m,\u001b[0m \u001b[0mreadonly\u001b[0m\u001b[0;34m=\u001b[0m\u001b[0;32mFalse\u001b[0m\u001b[0;34m)\u001b[0m\u001b[0;34m:\u001b[0m\u001b[0;34m\u001b[0m\u001b[0;34m\u001b[0m\u001b[0m\n\u001b[1;32m    102\u001b[0m   \u001b[0;34m\"\"\"Mount your Google Drive at the specified mountpoint path.\"\"\"\u001b[0m\u001b[0;34m\u001b[0m\u001b[0;34m\u001b[0m\u001b[0m\n\u001b[0;32m--> 103\u001b[0;31m   return _mount(\n\u001b[0m\u001b[1;32m    104\u001b[0m       \u001b[0mmountpoint\u001b[0m\u001b[0;34m,\u001b[0m\u001b[0;34m\u001b[0m\u001b[0;34m\u001b[0m\u001b[0m\n\u001b[1;32m    105\u001b[0m       \u001b[0mforce_remount\u001b[0m\u001b[0;34m=\u001b[0m\u001b[0mforce_remount\u001b[0m\u001b[0;34m,\u001b[0m\u001b[0;34m\u001b[0m\u001b[0;34m\u001b[0m\u001b[0m\n",
            "\u001b[0;32m/usr/local/lib/python3.10/dist-packages/google/colab/drive.py\u001b[0m in \u001b[0;36m_mount\u001b[0;34m(mountpoint, force_remount, timeout_ms, ephemeral, readonly)\u001b[0m\n\u001b[1;32m    130\u001b[0m   )\n\u001b[1;32m    131\u001b[0m   \u001b[0;32mif\u001b[0m \u001b[0mephemeral\u001b[0m\u001b[0;34m:\u001b[0m\u001b[0;34m\u001b[0m\u001b[0;34m\u001b[0m\u001b[0m\n\u001b[0;32m--> 132\u001b[0;31m     _message.blocking_request(\n\u001b[0m\u001b[1;32m    133\u001b[0m         \u001b[0;34m'request_auth'\u001b[0m\u001b[0;34m,\u001b[0m \u001b[0mrequest\u001b[0m\u001b[0;34m=\u001b[0m\u001b[0;34m{\u001b[0m\u001b[0;34m'authType'\u001b[0m\u001b[0;34m:\u001b[0m \u001b[0;34m'dfs_ephemeral'\u001b[0m\u001b[0;34m}\u001b[0m\u001b[0;34m,\u001b[0m \u001b[0mtimeout_sec\u001b[0m\u001b[0;34m=\u001b[0m\u001b[0;32mNone\u001b[0m\u001b[0;34m\u001b[0m\u001b[0;34m\u001b[0m\u001b[0m\n\u001b[1;32m    134\u001b[0m     )\n",
            "\u001b[0;32m/usr/local/lib/python3.10/dist-packages/google/colab/_message.py\u001b[0m in \u001b[0;36mblocking_request\u001b[0;34m(request_type, request, timeout_sec, parent)\u001b[0m\n\u001b[1;32m    174\u001b[0m       \u001b[0mrequest_type\u001b[0m\u001b[0;34m,\u001b[0m \u001b[0mrequest\u001b[0m\u001b[0;34m,\u001b[0m \u001b[0mparent\u001b[0m\u001b[0;34m=\u001b[0m\u001b[0mparent\u001b[0m\u001b[0;34m,\u001b[0m \u001b[0mexpect_reply\u001b[0m\u001b[0;34m=\u001b[0m\u001b[0;32mTrue\u001b[0m\u001b[0;34m\u001b[0m\u001b[0;34m\u001b[0m\u001b[0m\n\u001b[1;32m    175\u001b[0m   )\n\u001b[0;32m--> 176\u001b[0;31m   \u001b[0;32mreturn\u001b[0m \u001b[0mread_reply_from_input\u001b[0m\u001b[0;34m(\u001b[0m\u001b[0mrequest_id\u001b[0m\u001b[0;34m,\u001b[0m \u001b[0mtimeout_sec\u001b[0m\u001b[0;34m)\u001b[0m\u001b[0;34m\u001b[0m\u001b[0;34m\u001b[0m\u001b[0m\n\u001b[0m",
            "\u001b[0;32m/usr/local/lib/python3.10/dist-packages/google/colab/_message.py\u001b[0m in \u001b[0;36mread_reply_from_input\u001b[0;34m(message_id, timeout_sec)\u001b[0m\n\u001b[1;32m    101\u001b[0m     ):\n\u001b[1;32m    102\u001b[0m       \u001b[0;32mif\u001b[0m \u001b[0;34m'error'\u001b[0m \u001b[0;32min\u001b[0m \u001b[0mreply\u001b[0m\u001b[0;34m:\u001b[0m\u001b[0;34m\u001b[0m\u001b[0;34m\u001b[0m\u001b[0m\n\u001b[0;32m--> 103\u001b[0;31m         \u001b[0;32mraise\u001b[0m \u001b[0mMessageError\u001b[0m\u001b[0;34m(\u001b[0m\u001b[0mreply\u001b[0m\u001b[0;34m[\u001b[0m\u001b[0;34m'error'\u001b[0m\u001b[0;34m]\u001b[0m\u001b[0;34m)\u001b[0m\u001b[0;34m\u001b[0m\u001b[0;34m\u001b[0m\u001b[0m\n\u001b[0m\u001b[1;32m    104\u001b[0m       \u001b[0;32mreturn\u001b[0m \u001b[0mreply\u001b[0m\u001b[0;34m.\u001b[0m\u001b[0mget\u001b[0m\u001b[0;34m(\u001b[0m\u001b[0;34m'data'\u001b[0m\u001b[0;34m,\u001b[0m \u001b[0;32mNone\u001b[0m\u001b[0;34m)\u001b[0m\u001b[0;34m\u001b[0m\u001b[0;34m\u001b[0m\u001b[0m\n\u001b[1;32m    105\u001b[0m \u001b[0;34m\u001b[0m\u001b[0m\n",
            "\u001b[0;31mMessageError\u001b[0m: Error: credential propagation was unsuccessful"
          ]
        }
      ]
    },
    {
      "cell_type": "code",
      "source": [
        "use_cuda = True"
      ],
      "metadata": {
        "id": "wLOnCtbJmv5v"
      },
      "execution_count": null,
      "outputs": []
    },
    {
      "cell_type": "markdown",
      "source": [
        "# Checking Image Sizes"
      ],
      "metadata": {
        "id": "5Drbx2l14CoU"
      }
    },
    {
      "cell_type": "code",
      "source": [
        "# Checking image sizes in BIRAD3_Prelim folder:\n",
        "\n",
        "from PIL import Image\n",
        "\n",
        "# Open an image\n",
        "\n",
        "BIRAD3_Prelim = '/content/drive/MyDrive/APS360_Fall/Project/BIRADS_Prelim_Source/BIRAD3_Prelim'\n",
        "\n",
        "BIRAD3_Pics = os.listdir(BIRAD3_Prelim)\n",
        "\n",
        "for file in BIRAD3_Pics:\n",
        "    # Construct the full path to the image file\n",
        "    file_path = os.path.join(BIRAD3_Prelim, file)\n",
        "\n",
        "    # Open the image using the full file path\n",
        "    image = Image.open(file_path)\n",
        "\n",
        "    # Get width and height\n",
        "    width, height = image.size\n",
        "\n",
        "    print(width, height)"
      ],
      "metadata": {
        "colab": {
          "base_uri": "https://localhost:8080/"
        },
        "id": "GTD2sxz4sALK",
        "outputId": "bfe22899-aadd-450a-f766-af9422521503"
      },
      "execution_count": null,
      "outputs": [
        {
          "output_type": "stream",
          "name": "stdout",
          "text": [
            "1267 578\n",
            "1267 578\n",
            "1267 578\n",
            "1267 578\n",
            "1267 578\n",
            "1267 578\n",
            "1267 578\n",
            "1267 578\n",
            "1267 578\n",
            "1267 578\n",
            "1267 578\n",
            "1267 578\n",
            "1267 578\n",
            "1267 578\n",
            "1267 578\n",
            "1267 578\n",
            "1267 578\n",
            "1267 578\n",
            "1267 578\n",
            "1267 578\n",
            "1267 578\n",
            "1267 578\n",
            "1267 578\n",
            "1267 578\n",
            "1267 578\n",
            "1267 578\n",
            "1267 578\n",
            "1267 578\n",
            "1267 578\n",
            "1267 578\n",
            "1267 578\n",
            "1267 578\n",
            "1267 578\n",
            "1267 578\n",
            "1267 578\n",
            "1267 578\n",
            "1267 578\n",
            "1267 578\n",
            "1267 578\n",
            "1267 578\n",
            "1267 578\n",
            "1267 578\n",
            "1267 578\n",
            "1267 578\n",
            "1267 578\n",
            "1267 578\n",
            "1267 578\n",
            "1267 578\n",
            "1267 578\n",
            "1267 578\n",
            "1267 578\n",
            "1267 578\n",
            "1267 578\n",
            "1267 578\n",
            "1267 578\n",
            "1267 578\n",
            "1267 578\n",
            "1267 578\n",
            "1267 578\n",
            "1267 578\n",
            "1267 578\n",
            "1267 578\n",
            "1267 578\n",
            "1267 578\n",
            "1267 578\n",
            "1267 578\n",
            "1267 578\n",
            "1267 578\n",
            "1267 578\n",
            "1267 578\n",
            "1267 578\n",
            "1267 578\n",
            "1267 578\n",
            "1267 578\n",
            "1267 578\n",
            "1267 578\n",
            "1267 578\n",
            "1267 578\n",
            "1267 578\n",
            "1267 578\n",
            "1267 578\n",
            "1267 578\n",
            "1267 578\n",
            "1267 578\n",
            "1267 578\n",
            "1267 578\n",
            "1267 578\n",
            "1267 578\n",
            "1267 578\n",
            "1267 578\n",
            "1267 578\n",
            "1267 578\n",
            "1267 578\n",
            "1267 578\n",
            "1267 578\n",
            "1267 578\n",
            "1267 578\n",
            "1267 578\n",
            "1267 578\n",
            "1267 578\n",
            "1267 578\n",
            "1267 578\n",
            "1267 578\n",
            "1267 578\n",
            "1267 578\n",
            "1267 578\n",
            "1267 578\n",
            "1267 578\n",
            "1267 578\n",
            "1267 578\n"
          ]
        }
      ]
    },
    {
      "cell_type": "markdown",
      "source": [
        "Looking at the preliminary set of images from BIRADS 3, we see that they only have important information in the center of the image. As such, we center crop the image to have size of 578x578."
      ],
      "metadata": {
        "id": "TP0WB7HkbuCv"
      }
    },
    {
      "cell_type": "code",
      "source": [
        "# Resizing images from BIRADS 3 and saving them to new folder:\n",
        "\n",
        "BIRAD3_Prelim = '/content/drive/MyDrive/APS360_Fall/Project/BIRADS_Prelim_Source/BIRAD3_Prelim'\n",
        "BIRAD3_Prelim_Resized = '/content/drive/MyDrive/APS360_Fall/Project/BIRADS_Prelim_Source/BIRAD3_Prelim_Resized'\n",
        "\n",
        "BIRAD3_Pics = os.listdir(BIRAD3_Prelim)\n",
        "\n",
        "for file in BIRAD3_Pics:\n",
        "    # We first make the original image path and the resized image path:\n",
        "    input_image_path = os.path.join(BIRAD3_Prelim, file)\n",
        "    output_image_path = os.path.join(BIRAD3_Prelim_Resized, file)\n",
        "\n",
        "    # Open the input image\n",
        "    input_image = Image.open(input_image_path)\n",
        "\n",
        "    # Resize the image to the desired size\n",
        "    output_image = input_image.(desired_size, Image.ANTIALIAS)\n",
        "\n",
        "    # Save the resized image to the output folder\n",
        "    output_image.save(output_image_path)"
      ],
      "metadata": {
        "id": "DsSAjYjvaApI"
      },
      "execution_count": null,
      "outputs": []
    },
    {
      "cell_type": "code",
      "source": [
        "# Checking image sizes in BIRAD4_Prelim folder:\n",
        "\n",
        "from PIL import Image\n",
        "\n",
        "# Open an image\n",
        "\n",
        "BIRAD4_Prelim = '/content/drive/MyDrive/APS360_Fall/Project/BIRADS_Prelim_Source/BIRAD4_Prelim'\n",
        "\n",
        "BIRAD4_Pics = os.listdir(BIRAD4_Prelim)\n",
        "\n",
        "for file in BIRAD4_Pics:\n",
        "    # Construct the full path to the image file\n",
        "    file_path = os.path.join(BIRAD4_Prelim, file)\n",
        "\n",
        "    # Open the image using the full file path\n",
        "    image = Image.open(file_path)\n",
        "\n",
        "    # Get width and height\n",
        "    width, height = image.size\n",
        "\n",
        "    print(width, height)"
      ],
      "metadata": {
        "colab": {
          "base_uri": "https://localhost:8080/"
        },
        "id": "sbiZdI4huDTo",
        "outputId": "15ae5bec-cc6f-4eab-bf1e-7fc4ee0a7672"
      },
      "execution_count": null,
      "outputs": [
        {
          "output_type": "stream",
          "name": "stdout",
          "text": [
            "1267 578\n",
            "1267 578\n",
            "1267 578\n",
            "1267 578\n",
            "1267 578\n",
            "1267 578\n",
            "1267 578\n",
            "1267 578\n",
            "1267 578\n",
            "1267 578\n",
            "1267 578\n",
            "1267 578\n",
            "1267 578\n",
            "1267 578\n",
            "1267 578\n",
            "1267 578\n",
            "1267 578\n",
            "1267 578\n",
            "1267 578\n",
            "1267 578\n",
            "1267 578\n",
            "1267 578\n",
            "1267 578\n",
            "1267 578\n",
            "1267 578\n",
            "1267 578\n",
            "1267 578\n",
            "1267 578\n",
            "1267 578\n",
            "1267 578\n",
            "1267 578\n",
            "1267 578\n",
            "1267 578\n",
            "1267 578\n",
            "1267 578\n",
            "1267 578\n",
            "1267 578\n",
            "1267 578\n",
            "1267 578\n",
            "1267 578\n",
            "1267 578\n",
            "1267 578\n",
            "1267 578\n",
            "1267 578\n",
            "1267 578\n",
            "1267 578\n",
            "1267 578\n",
            "1267 578\n",
            "1267 578\n",
            "1267 578\n",
            "1267 578\n",
            "1267 578\n",
            "1267 578\n",
            "1267 578\n",
            "1267 578\n",
            "1267 578\n",
            "1267 578\n",
            "1267 578\n",
            "1267 578\n",
            "1267 578\n",
            "1267 578\n",
            "1267 578\n",
            "1267 578\n",
            "1267 578\n",
            "1267 578\n",
            "1267 578\n",
            "1267 578\n",
            "1267 578\n",
            "1267 578\n",
            "1267 578\n",
            "1267 578\n",
            "1267 578\n",
            "1267 578\n",
            "1267 578\n",
            "1267 578\n",
            "1267 578\n",
            "1267 578\n",
            "1267 578\n",
            "1282 578\n",
            "1267 578\n",
            "1267 578\n",
            "1267 578\n",
            "1267 578\n",
            "1267 578\n",
            "1267 578\n",
            "1267 578\n",
            "1282 578\n",
            "1267 578\n",
            "1282 578\n",
            "1267 578\n",
            "1267 578\n",
            "1267 578\n",
            "1267 578\n",
            "1267 578\n",
            "1267 578\n",
            "1267 578\n",
            "1267 578\n",
            "1282 578\n",
            "1267 578\n",
            "1267 578\n"
          ]
        }
      ]
    },
    {
      "cell_type": "code",
      "source": [
        "# Checking image sizes in BIRAD1_Prelim folder:\n",
        "\n",
        "from PIL import Image\n",
        "\n",
        "# Open an image\n",
        "\n",
        "BIRAD1_Prelim = '/content/drive/MyDrive/APS360_Fall/Project/BIRADS_Prelim_Source/BIRAD1_Prelim'\n",
        "\n",
        "BIRAD1_Pics = os.listdir(BIRAD1_Prelim)\n",
        "\n",
        "for file in BIRAD1_Pics:\n",
        "    # Construct the full path to the image file\n",
        "    file_path = os.path.join(BIRAD1_Prelim, file)\n",
        "\n",
        "    # Open the image using the full file path\n",
        "    image = Image.open(file_path)\n",
        "\n",
        "    # Get width and height\n",
        "    width, height = image.size\n",
        "\n",
        "    print(width, height)"
      ],
      "metadata": {
        "colab": {
          "base_uri": "https://localhost:8080/"
        },
        "id": "aMtlBd83E5jd",
        "outputId": "c965fc9d-4476-471b-9b4f-1cc64c19e166"
      },
      "execution_count": null,
      "outputs": [
        {
          "output_type": "stream",
          "name": "stdout",
          "text": [
            "2816 3584\n",
            "2816 3584\n",
            "2816 3584\n",
            "2816 3584\n",
            "2816 3584\n",
            "2816 3584\n",
            "2816 3584\n",
            "2816 3584\n",
            "2816 3584\n",
            "2816 3584\n",
            "2816 3584\n",
            "2816 3584\n",
            "2816 3584\n",
            "2816 3584\n",
            "2816 3584\n",
            "2816 3584\n",
            "2816 3584\n",
            "2816 3584\n",
            "2816 3584\n",
            "2816 3584\n",
            "2816 3584\n",
            "2816 3584\n",
            "2816 3584\n",
            "2816 3584\n",
            "2816 3584\n",
            "2816 3584\n",
            "2816 3584\n",
            "2816 3584\n",
            "2816 3584\n",
            "2816 3584\n",
            "2816 3584\n",
            "2816 3584\n",
            "2816 3584\n",
            "2816 3584\n",
            "2816 3584\n",
            "2816 3584\n",
            "2816 3584\n",
            "2816 3584\n",
            "2816 3584\n",
            "2816 3584\n",
            "2816 3584\n",
            "2816 3584\n",
            "2816 3584\n",
            "2816 3584\n",
            "824 578\n",
            "2816 3584\n",
            "2816 3584\n",
            "2816 3584\n",
            "2816 3584\n",
            "2816 3584\n",
            "2816 3584\n",
            "2816 3584\n",
            "2816 3584\n",
            "2816 3584\n",
            "2816 3584\n",
            "2816 3584\n",
            "2816 3584\n",
            "2816 3584\n",
            "2816 3584\n",
            "2816 3584\n",
            "2816 3584\n",
            "2816 3584\n",
            "2816 3584\n",
            "2816 3584\n",
            "2816 3584\n",
            "2816 3584\n",
            "824 578\n",
            "2816 3584\n",
            "2816 3584\n",
            "2816 3584\n",
            "2816 3584\n",
            "2816 3584\n",
            "824 578\n",
            "2816 3584\n",
            "2816 3584\n",
            "2816 3584\n",
            "2816 3584\n",
            "2816 3584\n",
            "824 578\n",
            "2816 3584\n",
            "2816 3584\n",
            "2816 3584\n",
            "2816 3584\n",
            "2816 3584\n",
            "2816 3584\n",
            "2816 3584\n",
            "2816 3584\n",
            "2816 3584\n",
            "2816 3584\n",
            "2816 3584\n",
            "2816 3584\n",
            "2816 3584\n",
            "2816 3584\n",
            "2816 3584\n",
            "2816 3584\n",
            "2816 3584\n",
            "2816 3584\n",
            "2816 3584\n",
            "2816 3584\n",
            "2816 3584\n"
          ]
        }
      ]
    },
    {
      "cell_type": "markdown",
      "source": [
        "# Architecture & Data Loading"
      ],
      "metadata": {
        "id": "2Z_9jrqswcAC"
      }
    },
    {
      "cell_type": "code",
      "source": [
        "# Baseline Model Architecture\n",
        "\n",
        "class BaselineModel(nn.Module):\n",
        "    def __init__(self):\n",
        "        super(BaselineModel, self).__init__()\n",
        "        self.conv1 = nn.Conv2d(3, 8, 5, 1, 2) # Starting with 3 channels (RGB), output of first conv layer has 8 channels, kernel size of 5 (more general features), padding of 2 (same padding)\n",
        "        self.pool = nn.MaxPool2d(2, 2)\n",
        "        self.conv2 = nn.Conv2d(8, 12, 3, 1, 2) # 8 input channels, 12 output channels, kernel size of 3 (finer details), padding of 2 (same padding)\n",
        "        self.fc1 = nn.Linear(12 * 145 * 145, 32) ####\n",
        "        self.fc2 = nn.Linear(32, 3) # There should be 5 classes (BIRADS 1, 2, 3, 4, 5), but we have completed data processing for 3 of them\n",
        "\n",
        "    def forward(self, x):\n",
        "        x = self.pool(F.relu(self.conv1(x)))\n",
        "        x = self.pool(F.relu(self.conv2(x)))\n",
        "        x = x.view(-1, 12 * 145 * 145)\n",
        "        x = F.relu(self.fc1(x))\n",
        "        x = self.fc2(x)\n",
        "        x = x.squeeze(1) # Flatten to [batch_size]\n",
        "        return x\n"
      ],
      "metadata": {
        "id": "MKhJi0-uFtWF"
      },
      "execution_count": null,
      "outputs": []
    },
    {
      "cell_type": "code",
      "source": [
        "# Need to split the BIRAD_Prelim datasets (i.e. the small datasets used for preliminary results) into training/validation...\n",
        "\n",
        "# Here we make the training folder... We will use 70% of the small dataset for training and 30% for validation.\n",
        "\n",
        "source_folder = '/content/drive/MyDrive/APS360_Fall/Project/BIRADS_Prelim_Source'\n",
        "train_folder = '/content/drive/MyDrive/APS360_Fall/Project/BIRADS_Prelim_Train'\n",
        "\n",
        "subfolders = os.listdir(source_folder)\n",
        "\n",
        "# Making the class subfolders in the training folder, and then moving 70% of the images within each class to their respective folders:\n",
        "for BIRAD in subfolders:\n",
        "  os.makedirs(train_folder + '/' + BIRAD, exist_ok = True)\n",
        "  files = os.listdir(source_folder + '/' + BIRAD)\n",
        "\n",
        "  for image in files:\n",
        "    source_path = source_folder + '/' + BIRAD + '/' + image\n",
        "    destination_path = train_folder + '/' + BIRAD + '/' + image\n",
        "    shutil.move(source_path, destination_path)\n",
        "\n",
        "    if len(os.listdir(train_folder + '/' + BIRAD)) >= 0.7*len(files): #This is the part that ensures 70% for training\n",
        "      break\n"
      ],
      "metadata": {
        "id": "4dWqGabclN85"
      },
      "execution_count": null,
      "outputs": []
    },
    {
      "cell_type": "code",
      "source": [
        "source_folder = '/content/drive/MyDrive/APS360_Fall/Project/BIRADS_Prelim_Source'\n",
        "val_folder = '/content/drive/MyDrive/APS360_Fall/Project/BIRADS_Prelim_Val'\n",
        "\n",
        "subfolders = os.listdir(source_folder)\n",
        "\n",
        "# Making the class subfolders in the validation folder, and then moving rest of images from the source folder (30%):\n",
        "for BIRAD in subfolders:\n",
        "  os.makedirs(val_folder + '/' + BIRAD, exist_ok = True)\n",
        "  files = os.listdir(source_folder + '/' + BIRAD)\n",
        "\n",
        "  for image in files:\n",
        "    source_path = source_folder + '/' + BIRAD + '/' + image\n",
        "    destination_path = val_folder + '/' + BIRAD + '/' + image\n",
        "    shutil.move(source_path, destination_path)"
      ],
      "metadata": {
        "id": "vLWp5NZ7pBar"
      },
      "execution_count": null,
      "outputs": []
    },
    {
      "cell_type": "code",
      "source": [
        "# Defining Paths for Small Dataset Testing\n",
        "\n",
        "train_folder_prelim = '/content/drive/MyDrive/APS360_Fall/Project/BIRADS_Prelim_Train'\n",
        "val_folder_prelim ='/content/drive/MyDrive/APS360_Fall/Project/BIRADS_Prelim_Val'\n",
        "\n",
        "transform = transforms.Compose([transforms.Resize((578,578)),\n",
        "                                transforms.ToTensor()])\n",
        "\n",
        "train_set_prelim = torchvision.datasets.ImageFolder(train_folder_prelim, transform = transform)\n",
        "val_set_prelim = torchvision.datasets.ImageFolder(val_folder_prelim, transform = transform)\n"
      ],
      "metadata": {
        "id": "bGpV4GfCFvae"
      },
      "execution_count": null,
      "outputs": []
    },
    {
      "cell_type": "markdown",
      "source": [
        "# Metric Code and Training Code"
      ],
      "metadata": {
        "id": "IUOGsiWW4ZiY"
      }
    },
    {
      "cell_type": "code",
      "source": [
        "def get_accuracy(model, data_loader):\n",
        "\n",
        "    correct = 0\n",
        "    total = 0\n",
        "    for imgs, labels in data_loader:\n",
        "\n",
        "        if use_cuda and torch.cuda.is_available():\n",
        "          imgs = imgs.cuda()\n",
        "          labels = labels.cuda()\n",
        "\n",
        "        output = model(imgs)\n",
        "\n",
        "        #select index with maximum prediction score (This is for multi-class)\n",
        "        pred = output.max(1, keepdim=True)[1]\n",
        "        correct += pred.eq(labels.view_as(pred)).sum().item()\n",
        "        total += imgs.shape[0]\n",
        "\n",
        "    return correct / total"
      ],
      "metadata": {
        "id": "NcZY7Oyp0PMO"
      },
      "execution_count": null,
      "outputs": []
    },
    {
      "cell_type": "code",
      "source": [
        "# Training Code\n",
        "\n",
        "def train(model, train_set, val_set, batch_size=64, num_epochs=32, lr=0.001):\n",
        "    torch.manual_seed(10)\n",
        "    train_loader = torch.utils.data.DataLoader(train_set, batch_size=batch_size, shuffle=True)\n",
        "    val_loader = torch.utils.data.DataLoader(val_set, batch_size=batch_size, shuffle=True)\n",
        "\n",
        "    criterion = nn.CrossEntropyLoss()\n",
        "    optimizer = optim.Adam(model.parameters(), lr)\n",
        "\n",
        "    iters, losses, train_acc, val_acc = [], [], [], []\n",
        "\n",
        "    # training\n",
        "    n = 0 # the number of iterations\n",
        "    for epoch in range(num_epochs):\n",
        "        for imgs, labels in iter(train_loader):\n",
        "\n",
        "            if use_cuda and torch.cuda.is_available():\n",
        "              imgs = imgs.cuda()\n",
        "              labels = labels.cuda()\n",
        "\n",
        "            out = model(imgs)             # forward pass\n",
        "            loss = criterion(out, labels) # compute the total loss\n",
        "            loss.backward()               # backward pass (compute parameter updates)\n",
        "            optimizer.step()              # make the updates for each parameter\n",
        "            optimizer.zero_grad()         # a clean up step for PyTorch\n",
        "\n",
        "            # save the current training information\n",
        "        iters.append(n)\n",
        "        losses.append(float(loss)/batch_size)             # compute *average* loss\n",
        "        train_acc.append(get_accuracy(model, train_loader)) # compute training accuracy\n",
        "        val_acc.append(get_accuracy(model, val_loader))  # compute validation accuracy\n",
        "        n += 1\n",
        "\n",
        "    epochs = np.arange(1, num_epochs + 1)\n",
        "\n",
        "    return train_acc, val_acc, epochs"
      ],
      "metadata": {
        "id": "kVDdJvOPFzY6"
      },
      "execution_count": null,
      "outputs": []
    },
    {
      "cell_type": "markdown",
      "source": [
        "# Training/Evaluation"
      ],
      "metadata": {
        "id": "lE5BsAiS4ePl"
      }
    },
    {
      "cell_type": "code",
      "source": [
        "Baseline = BaselineModel() ##### This is with three classes\n",
        "if use_cuda and torch.cuda.is_available():\n",
        "  Baseline.cuda()\n",
        "\n",
        "train_acc, val_acc, epochs = train(Baseline, train_set_prelim, val_set_prelim, batch_size = 5, num_epochs = 10, lr = 0.0001)\n",
        "\n",
        "plt.plot(epochs, train_acc, label=\"Training Accuracy\")\n",
        "plt.plot(epochs, val_acc, label=\"Validation Accuracy\")\n",
        "\n",
        "plt.title(\"Preliminary Training and Validation Curve for Baseline Model: Batch Size=5, Epochs=10, lr = 0.0001\")\n",
        "plt.xlabel(\"Epochs\")\n",
        "plt.ylabel(\"Accuracy\")\n",
        "plt.legend()\n",
        "plt.show()"
      ],
      "metadata": {
        "colab": {
          "base_uri": "https://localhost:8080/",
          "height": 472
        },
        "id": "5fVZO7Ie_6LQ",
        "outputId": "d86b9d28-f90f-475e-fcbe-6c9844730865"
      },
      "execution_count": null,
      "outputs": [
        {
          "output_type": "display_data",
          "data": {
            "text/plain": [
              "<Figure size 640x480 with 1 Axes>"
            ],
            "image/png": "[encoded data removed]"
          },
          "metadata": {}
        }
      ]
    },
    {
      "cell_type": "markdown",
      "source": [
        "# Overfit Testing"
      ],
      "metadata": {
        "id": "7oQmh_iOGc1i"
      }
    },
    {
      "cell_type": "code",
      "source": [
        "# Here we are doing a sanity check to see if our baseline model has the capacity to memorize:\n",
        "\n",
        "def overfit(model, overfit_loader, batch_size=12, num_epochs=50, lr = 0.001):\n",
        "\n",
        "    torch.manual_seed(10)\n",
        "    criterion = nn.CrossEntropyLoss()\n",
        "    optimizer = optim.Adam(model.parameters(), lr)\n",
        "\n",
        "    overfit_acc = []\n",
        "\n",
        "    # training\n",
        "    print (\"Training Started...\")\n",
        "    n = 0 # the number of iterations\n",
        "    for epoch in range(num_epochs):\n",
        "        for imgs, labels in iter(overfit_loader):\n",
        "\n",
        "            if use_cuda and torch.cuda.is_available():\n",
        "              imgs = imgs.cuda()\n",
        "              labels = labels.cuda()\n",
        "\n",
        "            out = model(imgs)             # forward pass\n",
        "            loss = criterion(out, labels) # compute the total loss\n",
        "            loss.backward()               # backward pass (compute parameter updates)\n",
        "            optimizer.step()              # make the updates for each parameter\n",
        "            optimizer.zero_grad()         # a clean up step for PyTorch\n",
        "        n += 1\n",
        "\n",
        "        # track accuracy\n",
        "        overfit_acc.append(get_accuracy(model, overfit_loader))\n",
        "\n",
        "    epochs = np.arange(1, num_epochs + 1)\n",
        "\n",
        "    return epochs, overfit_acc"
      ],
      "metadata": {
        "id": "2ltv3Li2GgrF"
      },
      "execution_count": null,
      "outputs": []
    },
    {
      "cell_type": "code",
      "source": [
        "overfit_folder = '/content/drive/MyDrive/APS360_Fall/Project/Overfit'\n",
        "\n",
        "overfit_set = torchvision.datasets.ImageFolder(overfit_folder, transform = transform)"
      ],
      "metadata": {
        "id": "OKkUUaDyJCnL"
      },
      "execution_count": null,
      "outputs": []
    },
    {
      "cell_type": "code",
      "source": [
        "Baseline = BaselineModel()\n",
        "if use_cuda and torch.cuda.is_available():\n",
        "  Baseline.cuda()\n",
        "\n",
        "overfit_loader = torch.utils.data.DataLoader(overfit_set, batch_size=12, shuffle = True)\n",
        "\n",
        "epochs, overfit_acc = overfit(Baseline, overfit_loader)\n",
        "\n",
        "plt.plot(epochs, overfit_acc)\n",
        "\n",
        "plt.title(\"Overfitting Curve (Sanity Check)\")\n",
        "plt.xlabel(\"Epochs\")\n",
        "plt.ylabel(\"Accuracy\")\n",
        "plt.show()"
      ],
      "metadata": {
        "colab": {
          "base_uri": "https://localhost:8080/",
          "height": 489
        },
        "id": "yAODs5YYLSmI",
        "outputId": "f2b52b7a-1546-4fbf-d05a-080ec7918395"
      },
      "execution_count": null,
      "outputs": [
        {
          "output_type": "stream",
          "name": "stdout",
          "text": [
            "Training Started...\n"
          ]
        },
        {
          "output_type": "display_data",
          "data": {
            "text/plain": [
              "<Figure size 640x480 with 1 Axes>"
            ],
            "image/png": "[encoded data removed]"
          },
          "metadata": {}
        }
      ]
    }
  ]
}